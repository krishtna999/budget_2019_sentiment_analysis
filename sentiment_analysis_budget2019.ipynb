{
  "nbformat": 4,
  "nbformat_minor": 0,
  "metadata": {
    "colab": {
      "name": "sentiment_analysis_budget2019.ipynb",
      "version": "0.3.2",
      "provenance": [],
      "collapsed_sections": []
    },
    "kernelspec": {
      "name": "python3",
      "display_name": "Python 3"
    }
  },
  "cells": [
    {
      "metadata": {
        "id": "KiYBVQcEQiZ9",
        "colab_type": "code",
        "outputId": "68222a5a-3f9c-4ad4-de18-a39c7bf82fd7",
        "colab": {
          "base_uri": "https://localhost:8080/",
          "height": 328
        }
      },
      "cell_type": "code",
      "source": [
        "!pip install tweepy\n",
        "!pip install vaderSentiment"
      ],
      "execution_count": 3,
      "outputs": [
        {
          "output_type": "stream",
          "text": [
            "Requirement already satisfied: tweepy in /usr/local/lib/python3.6/dist-packages (3.6.0)\n",
            "Requirement already satisfied: requests-oauthlib>=0.7.0 in /usr/local/lib/python3.6/dist-packages (from tweepy) (1.2.0)\n",
            "Requirement already satisfied: six>=1.10.0 in /usr/local/lib/python3.6/dist-packages (from tweepy) (1.11.0)\n",
            "Requirement already satisfied: PySocks>=1.5.7 in /usr/local/lib/python3.6/dist-packages (from tweepy) (1.6.8)\n",
            "Requirement already satisfied: requests>=2.11.1 in /usr/local/lib/python3.6/dist-packages (from tweepy) (2.18.4)\n",
            "Requirement already satisfied: oauthlib>=3.0.0 in /usr/local/lib/python3.6/dist-packages (from requests-oauthlib>=0.7.0->tweepy) (3.0.1)\n",
            "Requirement already satisfied: certifi>=2017.4.17 in /usr/local/lib/python3.6/dist-packages (from requests>=2.11.1->tweepy) (2018.11.29)\n",
            "Requirement already satisfied: chardet<3.1.0,>=3.0.2 in /usr/local/lib/python3.6/dist-packages (from requests>=2.11.1->tweepy) (3.0.4)\n",
            "Requirement already satisfied: urllib3<1.23,>=1.21.1 in /usr/local/lib/python3.6/dist-packages (from requests>=2.11.1->tweepy) (1.22)\n",
            "Requirement already satisfied: idna<2.7,>=2.5 in /usr/local/lib/python3.6/dist-packages (from requests>=2.11.1->tweepy) (2.6)\n",
            "Collecting vaderSentiment\n",
            "\u001b[?25l  Downloading https://files.pythonhosted.org/packages/86/9e/c53e1fc61aac5ee490a6ac5e21b1ac04e55a7c2aba647bb8411c9aadf24e/vaderSentiment-3.2.1-py2.py3-none-any.whl (125kB)\n",
            "\u001b[K    100% |████████████████████████████████| 133kB 6.3MB/s \n",
            "\u001b[?25hInstalling collected packages: vaderSentiment\n",
            "Successfully installed vaderSentiment-3.2.1\n"
          ],
          "name": "stdout"
        }
      ]
    },
    {
      "metadata": {
        "id": "GvG7WA36QpKl",
        "colab_type": "code",
        "colab": {}
      },
      "cell_type": "code",
      "source": [
        "import tweepy\n",
        "import pandas as pd\n",
        "from nltk.sentiment.vader import SentimentIntensityAnalyzer"
      ],
      "execution_count": 0,
      "outputs": []
    },
    {
      "metadata": {
        "id": "UpYmJN02Q3jh",
        "colab_type": "code",
        "colab": {}
      },
      "cell_type": "code",
      "source": [
        "#My Twitter API Authentication Variables\n",
        "CONSUMER_KEY = 'k'\n",
        "CONSUMER_SECRET = 'e'\n",
        "ACCESS_KEY = 'y'\n",
        "ACCESS_SECRET = 's'"
      ],
      "execution_count": 0,
      "outputs": []
    },
    {
      "metadata": {
        "id": "BXGiUvJIbYm7",
        "colab_type": "code",
        "colab": {}
      },
      "cell_type": "code",
      "source": [
        "auth = tweepy.auth.OAuthHandler(CONSUMER_KEY, CONSUMER_SECRET)\n",
        "auth.set_access_token(ACCESS_KEY, ACCESS_SECRET)\n",
        "\n",
        "api = tweepy.API(auth)\n",
        "# tweets = api.search(q=\"Budget2019\", count=1000)\n",
        "\n",
        "'''\n",
        "the below piece of code is swiped from :\n",
        "https://stackoverflow.com/questions/22469713/managing-tweepy-api-search\n",
        "Thanks to 'gumption' !!!\n",
        "'''\n",
        "query='CBIvsMamata'\n",
        "max_tweets=2000\n",
        "searched_tweets = []\n",
        "last_id = -1\n",
        "while len(searched_tweets) < max_tweets:\n",
        "    count = max_tweets - len(searched_tweets)\n",
        "    try:\n",
        "        new_tweets = api.search(q=query, count=count, max_id=str(last_id - 1))\n",
        "        if not new_tweets:\n",
        "            break\n",
        "        searched_tweets.extend(new_tweets)\n",
        "        last_id = new_tweets[-1].id\n",
        "    except tweepy.TweepError as e:\n",
        "        # depending on TweepError.code, one may want to retry or wait\n",
        "        # to keep things simple, we will give up on an error\n",
        "        break\n"
      ],
      "execution_count": 0,
      "outputs": []
    },
    {
      "metadata": {
        "id": "6W_szVOod_Pi",
        "colab_type": "code",
        "outputId": "b22af2a1-828d-4b9a-8a95-921f7c559476",
        "colab": {
          "base_uri": "https://localhost:8080/",
          "height": 226
        }
      },
      "cell_type": "code",
      "source": [
        "data=pd.DataFrame(data=[tweet.text for tweet in searched_tweets],columns=['tweet'])\n",
        "\n",
        "display(data.head(5))\n",
        "print('Total Data Size :',len(searched_tweets))"
      ],
      "execution_count": 46,
      "outputs": [
        {
          "output_type": "display_data",
          "data": {
            "text/html": [
              "<div>\n",
              "<style scoped>\n",
              "    .dataframe tbody tr th:only-of-type {\n",
              "        vertical-align: middle;\n",
              "    }\n",
              "\n",
              "    .dataframe tbody tr th {\n",
              "        vertical-align: top;\n",
              "    }\n",
              "\n",
              "    .dataframe thead th {\n",
              "        text-align: right;\n",
              "    }\n",
              "</style>\n",
              "<table border=\"1\" class=\"dataframe\">\n",
              "  <thead>\n",
              "    <tr style=\"text-align: right;\">\n",
              "      <th></th>\n",
              "      <th>tweet</th>\n",
              "    </tr>\n",
              "  </thead>\n",
              "  <tbody>\n",
              "    <tr>\n",
              "      <th>0</th>\n",
              "      <td>RT @meenu13hindu: कभी कभी टीवी में विज्ञापन कि...</td>\n",
              "    </tr>\n",
              "    <tr>\n",
              "      <th>1</th>\n",
              "      <td>RT @rose_k01: Rahul Gandhi HIMSELF telling the...</td>\n",
              "    </tr>\n",
              "    <tr>\n",
              "      <th>2</th>\n",
              "      <td>@GeetaHindustani @isunil1992 @MamataOfficial R...</td>\n",
              "    </tr>\n",
              "    <tr>\n",
              "      <th>3</th>\n",
              "      <td>Utterly speechless on the [in]competence of #C...</td>\n",
              "    </tr>\n",
              "    <tr>\n",
              "      <th>4</th>\n",
              "      <td>RT @AzyConTroll: Finally modi broke his silenc...</td>\n",
              "    </tr>\n",
              "  </tbody>\n",
              "</table>\n",
              "</div>"
            ],
            "text/plain": [
              "                                               tweet\n",
              "0  RT @meenu13hindu: कभी कभी टीवी में विज्ञापन कि...\n",
              "1  RT @rose_k01: Rahul Gandhi HIMSELF telling the...\n",
              "2  @GeetaHindustani @isunil1992 @MamataOfficial R...\n",
              "3  Utterly speechless on the [in]competence of #C...\n",
              "4  RT @AzyConTroll: Finally modi broke his silenc..."
            ]
          },
          "metadata": {
            "tags": []
          }
        },
        {
          "output_type": "stream",
          "text": [
            "Total Data Size : 2000\n"
          ],
          "name": "stdout"
        }
      ]
    },
    {
      "metadata": {
        "id": "X_5i0RHmePEu",
        "colab_type": "code",
        "outputId": "f9344cfb-908a-4023-9686-df16cffcc766",
        "colab": {
          "base_uri": "https://localhost:8080/",
          "height": 75
        }
      },
      "cell_type": "code",
      "source": [
        "import nltk\n",
        "nltk.download('vader_lexicon')"
      ],
      "execution_count": 47,
      "outputs": [
        {
          "output_type": "stream",
          "text": [
            "[nltk_data] Downloading package vader_lexicon to /root/nltk_data...\n",
            "[nltk_data]   Package vader_lexicon is already up-to-date!\n"
          ],
          "name": "stdout"
        },
        {
          "output_type": "execute_result",
          "data": {
            "text/plain": [
              "True"
            ]
          },
          "metadata": {
            "tags": []
          },
          "execution_count": 47
        }
      ]
    },
    {
      "metadata": {
        "id": "QSBeTiiCfWQo",
        "colab_type": "code",
        "colab": {}
      },
      "cell_type": "code",
      "source": [
        "sid=SentimentIntensityAnalyzer()\n",
        "\n",
        "# neg=list()\n",
        "# neu=list()\n",
        "# pos=list()\n",
        "compound=list()\n",
        "overall=list()\n",
        "\n",
        "for index,row in data.iterrows():\n",
        "  ss=sid.polarity_scores(row[\"tweet\"])\n",
        "  compound.append(ss['compound'])\n",
        "  if(ss['compound']<0):\n",
        "    overall.append('Negative')\n",
        "  elif(ss['compound']>0):\n",
        "    overall.append('Positive')\n",
        "  else:\n",
        "    overall.append('Neutral')\n",
        "\n",
        "se=pd.Series(compound)\n",
        "ov=pd.Series(overall)\n",
        "data['polarity']=se.values\n",
        "data['Reaction']=ov.values"
      ],
      "execution_count": 0,
      "outputs": []
    },
    {
      "metadata": {
        "id": "d8csgEnglVRA",
        "colab_type": "code",
        "colab": {
          "base_uri": "https://localhost:8080/",
          "height": 715
        },
        "outputId": "34ce0cd7-3d7b-4bf2-8268-ef03e266ff87"
      },
      "cell_type": "code",
      "source": [
        "display(data.sample(20))\n",
        "print(data.iloc[325].tweet)"
      ],
      "execution_count": 49,
      "outputs": [
        {
          "output_type": "display_data",
          "data": {
            "text/html": [
              "<div>\n",
              "<style scoped>\n",
              "    .dataframe tbody tr th:only-of-type {\n",
              "        vertical-align: middle;\n",
              "    }\n",
              "\n",
              "    .dataframe tbody tr th {\n",
              "        vertical-align: top;\n",
              "    }\n",
              "\n",
              "    .dataframe thead th {\n",
              "        text-align: right;\n",
              "    }\n",
              "</style>\n",
              "<table border=\"1\" class=\"dataframe\">\n",
              "  <thead>\n",
              "    <tr style=\"text-align: right;\">\n",
              "      <th></th>\n",
              "      <th>tweet</th>\n",
              "      <th>polarity</th>\n",
              "      <th>Reaction</th>\n",
              "    </tr>\n",
              "  </thead>\n",
              "  <tbody>\n",
              "    <tr>\n",
              "      <th>1914</th>\n",
              "      <td>RT @ShivAroor: Right now on TV:\\n\\nReporter to...</td>\n",
              "      <td>0.2023</td>\n",
              "      <td>Positive</td>\n",
              "    </tr>\n",
              "    <tr>\n",
              "      <th>437</th>\n",
              "      <td>RT @DurgaMenon: Is this called MULTIPLE DADDY ...</td>\n",
              "      <td>0.0000</td>\n",
              "      <td>Neutral</td>\n",
              "    </tr>\n",
              "    <tr>\n",
              "      <th>661</th>\n",
              "      <td>RT @Khandelw13Sagar: बड़ा खुलासा: शारदा चिटफंड...</td>\n",
              "      <td>0.0000</td>\n",
              "      <td>Neutral</td>\n",
              "    </tr>\n",
              "    <tr>\n",
              "      <th>1292</th>\n",
              "      <td>RT @SwamiGeetika: #MamataFreeBengal #DidiBlock...</td>\n",
              "      <td>-0.0890</td>\n",
              "      <td>Negative</td>\n",
              "    </tr>\n",
              "    <tr>\n",
              "      <th>950</th>\n",
              "      <td>Ravi Shankar Prasad calls opposition parties s...</td>\n",
              "      <td>0.6808</td>\n",
              "      <td>Positive</td>\n",
              "    </tr>\n",
              "    <tr>\n",
              "      <th>1640</th>\n",
              "      <td>तोता पूर्व नाम C B I मोदी सरकार मे सरकार के ईश...</td>\n",
              "      <td>0.0000</td>\n",
              "      <td>Neutral</td>\n",
              "    </tr>\n",
              "    <tr>\n",
              "      <th>1843</th>\n",
              "      <td>RT @SushantBSinha: मल्लिकार्जुन खड़गे कह रहे ह...</td>\n",
              "      <td>0.0000</td>\n",
              "      <td>Neutral</td>\n",
              "    </tr>\n",
              "    <tr>\n",
              "      <th>1586</th>\n",
              "      <td>.@rsprasad ने पूछा, आखिर राजीव कुमार क्या जानत...</td>\n",
              "      <td>0.0000</td>\n",
              "      <td>Neutral</td>\n",
              "    </tr>\n",
              "    <tr>\n",
              "      <th>1411</th>\n",
              "      <td>RT @Sootradhar: Congress Party's Mallikarjun K...</td>\n",
              "      <td>0.0000</td>\n",
              "      <td>Neutral</td>\n",
              "    </tr>\n",
              "    <tr>\n",
              "      <th>1514</th>\n",
              "      <td>#YONOSBI20U20 #SuperBowl #WorldCancerDay #CBIv...</td>\n",
              "      <td>0.0000</td>\n",
              "      <td>Neutral</td>\n",
              "    </tr>\n",
              "    <tr>\n",
              "      <th>1023</th>\n",
              "      <td>RT @MenonArvindBJP: दीदी खुद सवालों के घेरे मे...</td>\n",
              "      <td>0.0000</td>\n",
              "      <td>Neutral</td>\n",
              "    </tr>\n",
              "    <tr>\n",
              "      <th>1116</th>\n",
              "      <td>RT @MajorPoonia: आदरणीय @RahulGandhi जी,आप में...</td>\n",
              "      <td>0.0000</td>\n",
              "      <td>Neutral</td>\n",
              "    </tr>\n",
              "    <tr>\n",
              "      <th>1435</th>\n",
              "      <td>RT @VikasMysterious: कहावत है\\n\"तेरे दम पे कूद...</td>\n",
              "      <td>0.0000</td>\n",
              "      <td>Neutral</td>\n",
              "    </tr>\n",
              "    <tr>\n",
              "      <th>1495</th>\n",
              "      <td>RT @RituRathaur: Its not #CBIvsMamata its #CBI...</td>\n",
              "      <td>0.0000</td>\n",
              "      <td>Neutral</td>\n",
              "    </tr>\n",
              "    <tr>\n",
              "      <th>731</th>\n",
              "      <td>RT @Ramesh_BJP: #CBIvsMamata\\nDoes @RahulGandh...</td>\n",
              "      <td>0.0000</td>\n",
              "      <td>Neutral</td>\n",
              "    </tr>\n",
              "    <tr>\n",
              "      <th>1805</th>\n",
              "      <td>RT @news24tvchannel: MP के पूर्व मुख्यमंत्री श...</td>\n",
              "      <td>0.0000</td>\n",
              "      <td>Neutral</td>\n",
              "    </tr>\n",
              "    <tr>\n",
              "      <th>1637</th>\n",
              "      <td>RT @kabirputra: #CBIVSPOLICE\\n#CBIvsMamata\\n#स...</td>\n",
              "      <td>0.0000</td>\n",
              "      <td>Neutral</td>\n",
              "    </tr>\n",
              "    <tr>\n",
              "      <th>964</th>\n",
              "      <td>RT @rose_k01: Rahul Gandhi HIMSELF telling the...</td>\n",
              "      <td>-0.5719</td>\n",
              "      <td>Negative</td>\n",
              "    </tr>\n",
              "    <tr>\n",
              "      <th>1547</th>\n",
              "      <td>RT @maniangopi: 43 CBI officials released imme...</td>\n",
              "      <td>0.0000</td>\n",
              "      <td>Neutral</td>\n",
              "    </tr>\n",
              "    <tr>\n",
              "      <th>1128</th>\n",
              "      <td>RT @being_delhite: Look at this video\\n\\nIt sh...</td>\n",
              "      <td>0.3612</td>\n",
              "      <td>Positive</td>\n",
              "    </tr>\n",
              "  </tbody>\n",
              "</table>\n",
              "</div>"
            ],
            "text/plain": [
              "                                                  tweet  polarity  Reaction\n",
              "1914  RT @ShivAroor: Right now on TV:\\n\\nReporter to...    0.2023  Positive\n",
              "437   RT @DurgaMenon: Is this called MULTIPLE DADDY ...    0.0000   Neutral\n",
              "661   RT @Khandelw13Sagar: बड़ा खुलासा: शारदा चिटफंड...    0.0000   Neutral\n",
              "1292  RT @SwamiGeetika: #MamataFreeBengal #DidiBlock...   -0.0890  Negative\n",
              "950   Ravi Shankar Prasad calls opposition parties s...    0.6808  Positive\n",
              "1640  तोता पूर्व नाम C B I मोदी सरकार मे सरकार के ईश...    0.0000   Neutral\n",
              "1843  RT @SushantBSinha: मल्लिकार्जुन खड़गे कह रहे ह...    0.0000   Neutral\n",
              "1586  .@rsprasad ने पूछा, आखिर राजीव कुमार क्या जानत...    0.0000   Neutral\n",
              "1411  RT @Sootradhar: Congress Party's Mallikarjun K...    0.0000   Neutral\n",
              "1514  #YONOSBI20U20 #SuperBowl #WorldCancerDay #CBIv...    0.0000   Neutral\n",
              "1023  RT @MenonArvindBJP: दीदी खुद सवालों के घेरे मे...    0.0000   Neutral\n",
              "1116  RT @MajorPoonia: आदरणीय @RahulGandhi जी,आप में...    0.0000   Neutral\n",
              "1435  RT @VikasMysterious: कहावत है\\n\"तेरे दम पे कूद...    0.0000   Neutral\n",
              "1495  RT @RituRathaur: Its not #CBIvsMamata its #CBI...    0.0000   Neutral\n",
              "731   RT @Ramesh_BJP: #CBIvsMamata\\nDoes @RahulGandh...    0.0000   Neutral\n",
              "1805  RT @news24tvchannel: MP के पूर्व मुख्यमंत्री श...    0.0000   Neutral\n",
              "1637  RT @kabirputra: #CBIVSPOLICE\\n#CBIvsMamata\\n#स...    0.0000   Neutral\n",
              "964   RT @rose_k01: Rahul Gandhi HIMSELF telling the...   -0.5719  Negative\n",
              "1547  RT @maniangopi: 43 CBI officials released imme...    0.0000   Neutral\n",
              "1128  RT @being_delhite: Look at this video\\n\\nIt sh...    0.3612  Positive"
            ]
          },
          "metadata": {
            "tags": []
          }
        },
        {
          "output_type": "stream",
          "text": [
            "मोदी सरकार के खिलाफ अभी भी जारी है ममता बनर्जी का धरना, यूजर्स ने बताया 'झांसी की रानी' और 'फाइटर'\n",
            "#CBIvsMamata… https://t.co/IeChrlwkwo\n"
          ],
          "name": "stdout"
        }
      ]
    },
    {
      "metadata": {
        "colab_type": "code",
        "outputId": "084a27b6-5afe-4d87-f468-133b181165d6",
        "id": "KyPjtN2a0kEq",
        "colab": {
          "base_uri": "https://localhost:8080/",
          "height": 419
        }
      },
      "cell_type": "code",
      "source": [
        "# data['polarity'][0]['compound']\n",
        "import seaborn as sns\n",
        "sns.countplot(x='Reaction',data=data)"
      ],
      "execution_count": 50,
      "outputs": [
        {
          "output_type": "stream",
          "text": [
            "/usr/local/lib/python3.6/dist-packages/seaborn/categorical.py:1428: FutureWarning: remove_na is deprecated and is a private function. Do not use.\n",
            "  stat_data = remove_na(group_data)\n"
          ],
          "name": "stderr"
        },
        {
          "output_type": "execute_result",
          "data": {
            "text/plain": [
              "<matplotlib.axes._subplots.AxesSubplot at 0x7fcd265ecda0>"
            ]
          },
          "metadata": {
            "tags": []
          },
          "execution_count": 50
        },
        {
          "output_type": "display_data",
          "data": {
            "image/png": "[encoded data removed]",
            "text/plain": [
              "<Figure size 576x396 with 1 Axes>"
            ]
          },
          "metadata": {
            "tags": []
          }
        }
      ]
    },
    {
      "metadata": {
        "id": "RPn12l5aEQfe",
        "colab_type": "code",
        "colab": {
          "base_uri": "https://localhost:8080/",
          "height": 366
        },
        "outputId": "25424032-7623-4f85-d07e-df08544bf4f2"
      },
      "cell_type": "code",
      "source": [
        "se.plot.kde()\n"
      ],
      "execution_count": 51,
      "outputs": [
        {
          "output_type": "execute_result",
          "data": {
            "text/plain": [
              "<matplotlib.axes._subplots.AxesSubplot at 0x7fcd22ea40f0>"
            ]
          },
          "metadata": {
            "tags": []
          },
          "execution_count": 51
        },
        {
          "output_type": "display_data",
          "data": {
            "image/png": "[encoded data removed]",
            "text/plain": [
              "<Figure size 576x396 with 1 Axes>"
            ]
          },
          "metadata": {
            "tags": []
          }
        }
      ]
    },
    {
      "metadata": {
        "id": "jEW_goKik0kM",
        "colab_type": "code",
        "colab": {}
      },
      "cell_type": "code",
      "source": [
        ""
      ],
      "execution_count": 0,
      "outputs": []
    }
  ]
}